{
 "cells": [
  {
   "cell_type": "code",
   "execution_count": 1,
   "metadata": {},
   "outputs": [],
   "source": [
    "include(\"../src/voronoi.jl\")\n",
    "include(\"../src/gnuplot.jl\");"
   ]
  },
  {
   "cell_type": "code",
   "execution_count": null,
   "metadata": {},
   "outputs": [
    {
     "name": "stdout",
     "output_type": "stream",
     "text": [
      "  0.383858 seconds (1.22 M allocations: 38.420 MiB, 5.03% gc time)\n"
     ]
    }
   ],
   "source": [
    "sites = [Point(rand(),rand()) for i = 1:10000]\n",
    "@time edges = getVoronoiDiagram(sites)\n",
    "\n",
    "gp = gnuplot(25,25)\n",
    "println(gp, \"unset key; set xrange [0:1]; set yrange [0:1]; set tics out; set size ratio -1\")\n",
    "println(gp, \"plot '-' w p pt 6 ps .5 lt 2, '-' w l lt 1\")\n",
    "for site in sites\n",
    "    px = site.x\n",
    "    py = site.y\n",
    "    println(gp, \"$px $py\")\n",
    "end\n",
    "println(gp,\"e\")\n",
    "\n",
    "for e in edges\n",
    "    px = e.p.x\n",
    "    py = e.p.y\n",
    "    qx = e.q.x\n",
    "    qy = e.q.y\n",
    "    println(gp, \"$px $py\")\n",
    "    println(gp, \"$qx $qy\\n\")\n",
    "end\n",
    "plot(gp)"
   ]
  },
  {
   "cell_type": "code",
   "execution_count": null,
   "metadata": {},
   "outputs": [],
   "source": []
  }
 ],
 "metadata": {
  "kernelspec": {
   "display_name": "Julia 1.0.1",
   "language": "julia",
   "name": "julia-1.0"
  },
  "language_info": {
   "file_extension": ".jl",
   "mimetype": "application/julia",
   "name": "julia",
   "version": "1.0.1"
  }
 },
 "nbformat": 4,
 "nbformat_minor": 2
}
